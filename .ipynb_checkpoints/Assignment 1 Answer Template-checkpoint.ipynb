{
 "cells": [
  {
   "cell_type": "markdown",
   "metadata": {},
   "source": [
    "# IDS Assignment 1\n",
    "Document your results as well as the way you obtained them in this jupyter notebook. A seperate report (pdf, word etc.) is _not_ required. However, it is necessary that you provide the python code leading to your results as well as textual answers to the assignment questions in this notebook. \n",
    "\n",
    "Do not change the general structure of this notebook, but you can add further markdown or code cells to explain your solutions if necessary. In the end, submit this file in moodle."
   ]
  },
  {
   "cell_type": "markdown",
   "metadata": {},
   "source": [
    "## Get to know the data"
   ]
  },
  {
   "cell_type": "markdown",
   "metadata": {},
   "source": [
    "### Question 1 (Indicating type): \n",
    "1. Identify precise type of each attribute. Note that the right answers are like: “numerical-continuous-ratio”, just Numerical or Categorical is not enough."
   ]
  },
  {
   "cell_type": "markdown",
   "metadata": {},
   "source": [
    "Explanation: The types of each attribute are the following:\n",
    "\n",
    "| Attribute \t| Type \t| Explanation \t|\n",
    "|----------------\t|---------------------\t|-----------------------------------------------------------------------------------------------------\t|\n",
    "| age \t| numeric-discrete \t| Whole numbers in the range of 0 - 122 (upper limit, oldest person in the world) \t|\n",
    "| workclass \t| categorical-nominal \t| Categorical - trivial, nominal since their is no ordering in workclasses \t|\n",
    "| education \t| categorical-ordinal \t| Categorical - trivial, ordinal since education has a level \t|\n",
    "| education-num \t| categorical-ordinal \t| Categorical since High School - High School makes no sense just another representation of the above \t|\n",
    "| martial-status \t| categorical-nominal \t| Categorical - trivial, nominal no ordering in this status \t|\n",
    "| occupation \t| categorical-nominal \t| Same as above \t|\n",
    "| realtionship \t| categorical-nominal \t| Same as above \t|\n",
    "| race \t| categorical-nominal \t| For sure no ordering \t|\n",
    "| sex \t| categorical-nominal \t| Same as above \t|\n",
    "| hours-per-week \t| numeric-discrete \t| Numeric since these are numbers were the operations make sense and discrete because they are whole \t|\n",
    "| native-country \t| categorical-nomial \t| No order in countrys \t|\n",
    "| label \t| categorical-ordinal \t| Only two categories where <50 < >=50  \t|"
   ]
  },
  {
   "cell_type": "markdown",
   "metadata": {},
   "source": [
    "### Question 2 (Removing outliers):\n",
    "2. (a) Explore into \"age\" and \"hours-per-week\" and identify outliers (Boxplot returns whiskers). After identifying outliers, remove them (do it just once on the data set). Now you should have two data sets (cleaned and original)."
   ]
  },
  {
   "cell_type": "code",
   "execution_count": 1,
   "metadata": {},
   "outputs": [
    {
     "name": "stderr",
     "output_type": "stream",
     "text": [
      "/home/felix/Development/assignment1/assignment/lib/python3.6/site-packages/ipykernel_launcher.py:12: UserWarning: Boolean Series key will be reindexed to match DataFrame index.\n",
      "  if sys.path[0] == '':\n",
      "/home/felix/Development/assignment1/assignment/lib/python3.6/site-packages/ipykernel_launcher.py:13: UserWarning: Boolean Series key will be reindexed to match DataFrame index.\n",
      "  del sys.path[0]\n",
      "/home/felix/Development/assignment1/assignment/lib/python3.6/site-packages/ipykernel_launcher.py:14: UserWarning: Boolean Series key will be reindexed to match DataFrame index.\n",
      "  \n"
     ]
    },
    {
     "data": {
      "text/html": [
       "<div>\n",
       "<style scoped>\n",
       "    .dataframe tbody tr th:only-of-type {\n",
       "        vertical-align: middle;\n",
       "    }\n",
       "\n",
       "    .dataframe tbody tr th {\n",
       "        vertical-align: top;\n",
       "    }\n",
       "\n",
       "    .dataframe thead th {\n",
       "        text-align: right;\n",
       "    }\n",
       "</style>\n",
       "<table border=\"1\" class=\"dataframe\">\n",
       "  <thead>\n",
       "    <tr style=\"text-align: right;\">\n",
       "      <th></th>\n",
       "      <th>age</th>\n",
       "      <th>education_num</th>\n",
       "      <th>hours_per_week</th>\n",
       "    </tr>\n",
       "  </thead>\n",
       "  <tbody>\n",
       "    <tr>\n",
       "      <th>count</th>\n",
       "      <td>17841.000000</td>\n",
       "      <td>17841.000000</td>\n",
       "      <td>17841.000000</td>\n",
       "    </tr>\n",
       "    <tr>\n",
       "      <th>mean</th>\n",
       "      <td>40.102965</td>\n",
       "      <td>10.478056</td>\n",
       "      <td>41.748332</td>\n",
       "    </tr>\n",
       "    <tr>\n",
       "      <th>std</th>\n",
       "      <td>13.156900</td>\n",
       "      <td>2.606968</td>\n",
       "      <td>12.207203</td>\n",
       "    </tr>\n",
       "    <tr>\n",
       "      <th>min</th>\n",
       "      <td>17.000000</td>\n",
       "      <td>1.000000</td>\n",
       "      <td>1.000000</td>\n",
       "    </tr>\n",
       "    <tr>\n",
       "      <th>25%</th>\n",
       "      <td>30.000000</td>\n",
       "      <td>9.000000</td>\n",
       "      <td>40.000000</td>\n",
       "    </tr>\n",
       "    <tr>\n",
       "      <th>50%</th>\n",
       "      <td>39.000000</td>\n",
       "      <td>10.000000</td>\n",
       "      <td>40.000000</td>\n",
       "    </tr>\n",
       "    <tr>\n",
       "      <th>75%</th>\n",
       "      <td>49.000000</td>\n",
       "      <td>13.000000</td>\n",
       "      <td>48.000000</td>\n",
       "    </tr>\n",
       "    <tr>\n",
       "      <th>max</th>\n",
       "      <td>90.000000</td>\n",
       "      <td>16.000000</td>\n",
       "      <td>99.000000</td>\n",
       "    </tr>\n",
       "  </tbody>\n",
       "</table>\n",
       "</div>"
      ],
      "text/plain": [
       "                age  education_num  hours_per_week\n",
       "count  17841.000000   17841.000000    17841.000000\n",
       "mean      40.102965      10.478056       41.748332\n",
       "std       13.156900       2.606968       12.207203\n",
       "min       17.000000       1.000000        1.000000\n",
       "25%       30.000000       9.000000       40.000000\n",
       "50%       39.000000      10.000000       40.000000\n",
       "75%       49.000000      13.000000       48.000000\n",
       "max       90.000000      16.000000       99.000000"
      ]
     },
     "execution_count": 1,
     "metadata": {},
     "output_type": "execute_result"
    }
   ],
   "source": [
    "import pandas as pd\n",
    "import numpy as np\n",
    "df = pd.read_csv(\"data-set-assignment1/adult.data-3.csv\")\n",
    "df.columns.values\n",
    "df.columns = ['age','workclass','education','education_num','marital_status','occupation','relationship','race','sex',\n",
    "              'hours_per_week','native_country','label']\n",
    "df.boxplot(column=['age', 'hours_per_week'])\n",
    "df.describe()\n",
    "IQR_age = df.describe().age['75%'] - df.describe().age['25%']\n",
    "IQR_hpw = df.describe().hours_per_week['75%'] - df.describe().hours_per_week['25%']\n",
    "df_1 = df[(df.age <= (df.describe().age['75%'] + 1.5*IQR_age))]\n",
    "df_2 = df_1[(df.age >= (df.describe().age['25%'] - 1.5*IQR_age))]\n",
    "df_3 = df_2[(df.hours_per_week <= (df.describe().hours_per_week['75%'] + 1.5*IQR_hpw))]\n",
    "df_clean = df_3[(df.hours_per_week >= (df.describe().hours_per_week['25%'] - 1.5*IQR_hpw))]\n",
    "df.describe()"
   ]
  },
  {
   "cell_type": "markdown",
   "metadata": {},
   "source": [
    "2. (b) Draw Boxplot of the cleaned data set for \"hours-per-week\". Is there still any outlier? If so, explain why?"
   ]
  },
  {
   "cell_type": "code",
   "execution_count": 2,
   "metadata": {},
   "outputs": [
    {
     "data": {
      "text/html": [
       "<div>\n",
       "<style scoped>\n",
       "    .dataframe tbody tr th:only-of-type {\n",
       "        vertical-align: middle;\n",
       "    }\n",
       "\n",
       "    .dataframe tbody tr th {\n",
       "        vertical-align: top;\n",
       "    }\n",
       "\n",
       "    .dataframe thead th {\n",
       "        text-align: right;\n",
       "    }\n",
       "</style>\n",
       "<table border=\"1\" class=\"dataframe\">\n",
       "  <thead>\n",
       "    <tr style=\"text-align: right;\">\n",
       "      <th></th>\n",
       "      <th>age</th>\n",
       "      <th>education_num</th>\n",
       "      <th>hours_per_week</th>\n",
       "    </tr>\n",
       "  </thead>\n",
       "  <tbody>\n",
       "    <tr>\n",
       "      <th>count</th>\n",
       "      <td>15311.000000</td>\n",
       "      <td>15311.000000</td>\n",
       "      <td>15311.000000</td>\n",
       "    </tr>\n",
       "    <tr>\n",
       "      <th>mean</th>\n",
       "      <td>40.141924</td>\n",
       "      <td>10.553915</td>\n",
       "      <td>43.060153</td>\n",
       "    </tr>\n",
       "    <tr>\n",
       "      <th>std</th>\n",
       "      <td>11.954231</td>\n",
       "      <td>2.580377</td>\n",
       "      <td>6.872676</td>\n",
       "    </tr>\n",
       "    <tr>\n",
       "      <th>min</th>\n",
       "      <td>17.000000</td>\n",
       "      <td>1.000000</td>\n",
       "      <td>28.000000</td>\n",
       "    </tr>\n",
       "    <tr>\n",
       "      <th>25%</th>\n",
       "      <td>31.000000</td>\n",
       "      <td>9.000000</td>\n",
       "      <td>40.000000</td>\n",
       "    </tr>\n",
       "    <tr>\n",
       "      <th>50%</th>\n",
       "      <td>40.000000</td>\n",
       "      <td>10.000000</td>\n",
       "      <td>40.000000</td>\n",
       "    </tr>\n",
       "    <tr>\n",
       "      <th>75%</th>\n",
       "      <td>49.000000</td>\n",
       "      <td>13.000000</td>\n",
       "      <td>48.000000</td>\n",
       "    </tr>\n",
       "    <tr>\n",
       "      <th>max</th>\n",
       "      <td>77.000000</td>\n",
       "      <td>16.000000</td>\n",
       "      <td>60.000000</td>\n",
       "    </tr>\n",
       "  </tbody>\n",
       "</table>\n",
       "</div>"
      ],
      "text/plain": [
       "                age  education_num  hours_per_week\n",
       "count  15311.000000   15311.000000    15311.000000\n",
       "mean      40.141924      10.553915       43.060153\n",
       "std       11.954231       2.580377        6.872676\n",
       "min       17.000000       1.000000       28.000000\n",
       "25%       31.000000       9.000000       40.000000\n",
       "50%       40.000000      10.000000       40.000000\n",
       "75%       49.000000      13.000000       48.000000\n",
       "max       77.000000      16.000000       60.000000"
      ]
     },
     "execution_count": 2,
     "metadata": {},
     "output_type": "execute_result"
    },
    {
     "data": {
      "image/png": "[encoded data removed]",
      "text/plain": [
       "<Figure size 432x288 with 1 Axes>"
      ]
     },
     "metadata": {
      "needs_background": "light"
     },
     "output_type": "display_data"
    }
   ],
   "source": [
    "df_clean.boxplot(column=['age', 'hours_per_week'])\n",
    "df_clean.describe()\n"
   ]
  },
  {
   "cell_type": "markdown",
   "metadata": {},
   "source": [
    "Explanation: As you can see, the quantiles for age have slightly decreased in size and IQR has also decreased in size. it follows that all those outside the new smaller interval are outliers. Which in this case is one example. Because IQR_age * 1.5 + 75% quartile are 76 and the oldest is now 77."
   ]
  },
  {
   "cell_type": "markdown",
   "metadata": {},
   "source": [
    "### Question 3 (Basic visualization):\n",
    "3. (a) Visualize mean and median of \"age\", and \"hours-per-week\" per \"sex\" by separate plots for the cleaned and the original data sets (there should be 8 plots, 4 plots for the original data set and 4 plots for the cleaned data set). "
   ]
  },
  {
   "cell_type": "code",
   "execution_count": 3,
   "metadata": {},
   "outputs": [
    {
     "data": {
      "image/png": "[encoded data removed]",
      "text/plain": [
       "<Figure size 432x288 with 1 Axes>"
      ]
     },
     "metadata": {
      "needs_background": "light"
     },
     "output_type": "display_data"
    },
    {
     "data": {
      "image/png": "[encoded data removed]",
      "text/plain": [
       "<Figure size 432x288 with 1 Axes>"
      ]
     },
     "metadata": {
      "needs_background": "light"
     },
     "output_type": "display_data"
    },
    {
     "data": {
      "image/png": "[encoded data removed]",
      "text/plain": [
       "<Figure size 432x288 with 1 Axes>"
      ]
     },
     "metadata": {
      "needs_background": "light"
     },
     "output_type": "display_data"
    },
    {
     "data": {
      "image/png": "[encoded data removed]",
      "text/plain": [
       "<Figure size 432x288 with 1 Axes>"
      ]
     },
     "metadata": {
      "needs_background": "light"
     },
     "output_type": "display_data"
    },
    {
     "data": {
      "image/png": "[encoded data removed]",
      "text/plain": [
       "<Figure size 432x288 with 1 Axes>"
      ]
     },
     "metadata": {
      "needs_background": "light"
     },
     "output_type": "display_data"
    },
    {
     "data": {
      "image/png": "[encoded data removed]",
      "text/plain": [
       "<Figure size 432x288 with 1 Axes>"
      ]
     },
     "metadata": {
      "needs_background": "light"
     },
     "output_type": "display_data"
    },
    {
     "data": {
      "image/png": "[encoded data removed]",
      "text/plain": [
       "<Figure size 432x288 with 1 Axes>"
      ]
     },
     "metadata": {
      "needs_background": "light"
     },
     "output_type": "display_data"
    },
    {
     "data": {
      "image/png": "[encoded data removed]",
      "text/plain": [
       "<Figure size 432x288 with 1 Axes>"
      ]
     },
     "metadata": {
      "needs_background": "light"
     },
     "output_type": "display_data"
    },
    {
     "data": {
      "text/html": [
       "<div>\n",
       "<style scoped>\n",
       "    .dataframe tbody tr th:only-of-type {\n",
       "        vertical-align: middle;\n",
       "    }\n",
       "\n",
       "    .dataframe tbody tr th {\n",
       "        vertical-align: top;\n",
       "    }\n",
       "\n",
       "    .dataframe thead th {\n",
       "        text-align: right;\n",
       "    }\n",
       "</style>\n",
       "<table border=\"1\" class=\"dataframe\">\n",
       "  <thead>\n",
       "    <tr style=\"text-align: right;\">\n",
       "      <th></th>\n",
       "      <th>age</th>\n",
       "      <th>education_num</th>\n",
       "      <th>hours_per_week</th>\n",
       "    </tr>\n",
       "  </thead>\n",
       "  <tbody>\n",
       "    <tr>\n",
       "      <th>count</th>\n",
       "      <td>12717.000000</td>\n",
       "      <td>12717.000000</td>\n",
       "      <td>12717.000000</td>\n",
       "    </tr>\n",
       "    <tr>\n",
       "      <th>mean</th>\n",
       "      <td>41.121176</td>\n",
       "      <td>10.557915</td>\n",
       "      <td>43.708265</td>\n",
       "    </tr>\n",
       "    <tr>\n",
       "      <th>std</th>\n",
       "      <td>12.753403</td>\n",
       "      <td>2.679665</td>\n",
       "      <td>11.877778</td>\n",
       "    </tr>\n",
       "    <tr>\n",
       "      <th>min</th>\n",
       "      <td>17.000000</td>\n",
       "      <td>1.000000</td>\n",
       "      <td>1.000000</td>\n",
       "    </tr>\n",
       "    <tr>\n",
       "      <th>25%</th>\n",
       "      <td>32.000000</td>\n",
       "      <td>9.000000</td>\n",
       "      <td>40.000000</td>\n",
       "    </tr>\n",
       "    <tr>\n",
       "      <th>50%</th>\n",
       "      <td>40.000000</td>\n",
       "      <td>10.000000</td>\n",
       "      <td>40.000000</td>\n",
       "    </tr>\n",
       "    <tr>\n",
       "      <th>75%</th>\n",
       "      <td>50.000000</td>\n",
       "      <td>13.000000</td>\n",
       "      <td>50.000000</td>\n",
       "    </tr>\n",
       "    <tr>\n",
       "      <th>max</th>\n",
       "      <td>90.000000</td>\n",
       "      <td>16.000000</td>\n",
       "      <td>99.000000</td>\n",
       "    </tr>\n",
       "  </tbody>\n",
       "</table>\n",
       "</div>"
      ],
      "text/plain": [
       "                age  education_num  hours_per_week\n",
       "count  12717.000000   12717.000000    12717.000000\n",
       "mean      41.121176      10.557915       43.708265\n",
       "std       12.753403       2.679665       11.877778\n",
       "min       17.000000       1.000000        1.000000\n",
       "25%       32.000000       9.000000       40.000000\n",
       "50%       40.000000      10.000000       40.000000\n",
       "75%       50.000000      13.000000       50.000000\n",
       "max       90.000000      16.000000       99.000000"
      ]
     },
     "execution_count": 3,
     "metadata": {},
     "output_type": "execute_result"
    }
   ],
   "source": [
    "import matplotlib.pyplot as plt\n",
    "\n",
    "grouped = df.groupby('sex')\n",
    "grouped_clean = df_clean.groupby('sex')\n",
    "df_male = grouped.get_group('Male')\n",
    "df_female = grouped.get_group('Female')\n",
    "df_male_clean = grouped_clean.get_group('Male')\n",
    "df_female_clean = grouped_clean.get_group('Female')\n",
    "\n",
    "\n",
    "\n",
    "age_male = ['mean', 'median']\n",
    "y_pos = np.arange(len(age_male))\n",
    "mm = [df_male['age'].mean(), df_male['age'].median()]\n",
    "plt.bar(y_pos, mm, align='center', alpha=0.5)\n",
    "plt.xticks(y_pos, age_male)\n",
    "plt.title('Mean vs. Median for Male in Category age with not cleaned data')\n",
    "plt.show()\n",
    "\n",
    "age_male_clean = ['mean', 'median']\n",
    "y_pos = np.arange(len(age_male_clean))\n",
    "mm = [df_male_clean['age'].mean(), df_male_clean['age'].median()]\n",
    "plt.bar(y_pos, mm, align='center', alpha=0.5)\n",
    "plt.xticks(y_pos, age_male_clean)\n",
    "plt.title('Mean vs. Median for Male in Category age with cleaned data')\n",
    "plt.show()\n",
    "\n",
    "age_female = ['mean', 'median']\n",
    "y_pos = np.arange(len(age_female))\n",
    "mm = [df_female['age'].mean(), df_female['age'].median()]\n",
    "plt.bar(y_pos, mm, align='center', alpha=0.5)\n",
    "plt.xticks(y_pos, age_female)\n",
    "plt.title('Mean vs. Median for Female in Category age with not cleaned data')\n",
    "plt.show()\n",
    "\n",
    "age_female_clean = ['mean', 'median']\n",
    "y_pos = np.arange(len(age_female_clean))\n",
    "mm = [df_female_clean['age'].mean(), df_female_clean['age'].median()]\n",
    "plt.bar(y_pos, mm, align='center', alpha=0.5)\n",
    "plt.xticks(y_pos, age_female_clean)\n",
    "plt.title('Mean vs. Median for Female in Category age with cleaned data')\n",
    "plt.show()\n",
    "\n",
    "hpw_female = ['mean', 'median']\n",
    "y_pos = np.arange(len(hpw_female))\n",
    "mm = [df_female['hours_per_week'].mean(), df_female['hours_per_week'].median()]\n",
    "plt.bar(y_pos, mm, align='center', alpha=0.5)\n",
    "plt.xticks(y_pos, hpw_female)\n",
    "plt.title('Mean vs. Median for Female in Category hours_per_week with not cleaned data')\n",
    "plt.show()\n",
    "\n",
    "hpw_male = ['mean', 'median']\n",
    "y_pos = np.arange(len(hpw_male))\n",
    "mm = [df_male['hours_per_week'].mean(), df_male['hours_per_week'].median()]\n",
    "plt.bar(y_pos, mm, align='center', alpha=0.5)\n",
    "plt.xticks(y_pos, hpw_male)\n",
    "plt.title('Mean vs. Median for Male in Category hours_per_week with not cleaned data')\n",
    "plt.show()\n",
    "\n",
    "hpw_female_clean = ['mean', 'median']\n",
    "y_pos = np.arange(len(hpw_female_clean))\n",
    "mm = [df_female_clean['hours_per_week'].mean(), df_female_clean['hours_per_week'].median()]\n",
    "plt.bar(y_pos, mm, align='center', alpha=0.5)\n",
    "plt.xticks(y_pos, hpw_female_clean)\n",
    "plt.title('Mean vs. Median for Female in Category hours_per_week with cleaned data')\n",
    "plt.show()\n",
    "\n",
    "hpw_male_clean = ['mean', 'median']\n",
    "y_pos = np.arange(len(hpw_male_clean))\n",
    "mm = [df_male_clean['hours_per_week'].mean(), df_male_clean['hours_per_week'].median()]\n",
    "plt.bar(y_pos, mm, align='center', alpha=0.5)\n",
    "plt.xticks(y_pos, hpw_male_clean)\n",
    "plt.title('Mean vs. Median for Male in Category hours_per_week with cleaned data')\n",
    "plt.show()\n",
    "\n",
    "df_male.describe()"
   ]
  },
  {
   "cell_type": "markdown",
   "metadata": {},
   "source": [
    "3. (b) Explain how mean and median of \"age\" per \"sex\" change when you remove the outliers."
   ]
  },
  {
   "cell_type": "markdown",
   "metadata": {},
   "source": [
    "Explanation: The median and the mean have hardly changed at all they have even shifted upwards against the expectations in women the median by 1 and the mean by 0.2. In men the mean has fallen by 0.2 and the median remained the same. This suggests that the exclusion of the outliers at workhours worked exactly against that of age, since at Age only those who were old were excluded."
   ]
  },
  {
   "cell_type": "markdown",
   "metadata": {},
   "source": [
    "### Question 4 (Distribution):\n",
    "4. (a) Explore into distribution of \"age\" in the original data set. Does it have any well-known distribution (normal, uniform, skewed, ...)? If so, what are the main statistical features (mean, median, and mode) of this specific type of distribution."
   ]
  },
  {
   "cell_type": "code",
   "execution_count": 24,
   "metadata": {},
   "outputs": [
    {
     "name": "stdout",
     "output_type": "stream",
     "text": [
      "Mean value: 251.0\n",
      "Median value: 272.0\n",
      "Mode value: 0     12\n",
      "1    226\n",
      "2    441\n",
      "dtype: int64\n"
     ]
    },
    {
     "data": {
      "image/png": "[encoded data removed]",
      "text/plain": [
       "<Figure size 432x288 with 1 Axes>"
      ]
     },
     "metadata": {
      "needs_background": "light"
     },
     "output_type": "display_data"
    }
   ],
   "source": [
    "plt.hist(df_clean['age'], color = 'blue', edgecolor = 'black', bins=61)\n",
    "print(\"Mean value: {}\".format(df_clean['age'].value_counts().mean()))\n",
    "print(\"Median value: {}\".format(df_clean['age'].value_counts().median()))\n",
    "print(\"Mode value: {}\".format())\n",
    "df_clean['age'].value_counts().mode())\n"
   ]
  },
  {
   "cell_type": "markdown",
   "metadata": {},
   "source": [
    "Explanation:"
   ]
  },
  {
   "cell_type": "markdown",
   "metadata": {},
   "source": [
    "4. (b) Explore into distribution of \"age\" and \"hours-per-week\" together. Explain how the data is distributed with respect to these two attributes in the original data sets (using Jointplot)?\n"
   ]
  },
  {
   "cell_type": "code",
   "execution_count": 5,
   "metadata": {},
   "outputs": [],
   "source": [
    "# your code\n"
   ]
  },
  {
   "cell_type": "markdown",
   "metadata": {},
   "source": [
    "Explanation:"
   ]
  },
  {
   "cell_type": "markdown",
   "metadata": {},
   "source": [
    "## Building models to perform predictions"
   ]
  },
  {
   "cell_type": "markdown",
   "metadata": {},
   "source": [
    "### Question 5 (Decision Tree):\n",
    "5. (a) Consider all the categorical attributes except label as descriptive features and label (income) as target feature. Make two decision trees (one based on Entropy and another based on Gini)."
   ]
  },
  {
   "cell_type": "code",
   "execution_count": 6,
   "metadata": {},
   "outputs": [],
   "source": [
    "# your code\n"
   ]
  },
  {
   "cell_type": "markdown",
   "metadata": {},
   "source": [
    "5. (b) What are the best attributes (based on Gini and Entropy) for splitting the trees in the third round of ID3?   "
   ]
  },
  {
   "cell_type": "markdown",
   "metadata": {},
   "source": [
    "Explanation:"
   ]
  },
  {
   "cell_type": "markdown",
   "metadata": {},
   "source": [
    "5. (c) Prune the tree which is made based on Entropy by 7000 as minimum number of samples. Identify which value of the first node/attribute is chosen to be split in the second round of ID3 and explain why?"
   ]
  },
  {
   "cell_type": "code",
   "execution_count": 7,
   "metadata": {},
   "outputs": [],
   "source": [
    "# your code\n"
   ]
  },
  {
   "cell_type": "markdown",
   "metadata": {},
   "source": [
    "Explanation:"
   ]
  },
  {
   "cell_type": "markdown",
   "metadata": {},
   "source": [
    "### Question 6 (Regression):\n",
    "\n",
    "6. (a) Create two sets of independent variables (1) and (2)"
   ]
  },
  {
   "cell_type": "code",
   "execution_count": 8,
   "metadata": {},
   "outputs": [],
   "source": [
    "# your code\n"
   ]
  },
  {
   "cell_type": "markdown",
   "metadata": {},
   "source": [
    "6. (b) Which attributes are suitable as an input for the logistic regression and which need to be modified first? Why? "
   ]
  },
  {
   "cell_type": "markdown",
   "metadata": {},
   "source": [
    "Explanation:"
   ]
  },
  {
   "cell_type": "code",
   "execution_count": 9,
   "metadata": {},
   "outputs": [],
   "source": [
    "# your modification\n"
   ]
  },
  {
   "cell_type": "markdown",
   "metadata": {},
   "source": [
    "6. (c) Train three logistic regression classifiers based on the two created data sets as well as the initial data set:"
   ]
  },
  {
   "cell_type": "code",
   "execution_count": 10,
   "metadata": {},
   "outputs": [],
   "source": [
    "# your code\n"
   ]
  },
  {
   "cell_type": "markdown",
   "metadata": {},
   "source": [
    "6. (d) Interpret the three resulting models and compare them. Which model do you recommend and why?"
   ]
  },
  {
   "cell_type": "markdown",
   "metadata": {},
   "source": [
    "Explanation:"
   ]
  },
  {
   "cell_type": "markdown",
   "metadata": {},
   "source": [
    "### Question 7 (Neural Networks)"
   ]
  },
  {
   "cell_type": "markdown",
   "metadata": {},
   "source": [
    "7. (a) What are the inputs of your network?"
   ]
  },
  {
   "cell_type": "markdown",
   "metadata": {},
   "source": [
    "Explanation:"
   ]
  },
  {
   "cell_type": "markdown",
   "metadata": {},
   "source": [
    "7. (b) What are the possible number of input pattern for your network (just including categorical attributes)?"
   ]
  },
  {
   "cell_type": "markdown",
   "metadata": {},
   "source": [
    "Explanation:"
   ]
  },
  {
   "cell_type": "markdown",
   "metadata": {},
   "source": [
    "7. (c.i) First, with default parameters and return the parameters."
   ]
  },
  {
   "cell_type": "code",
   "execution_count": 11,
   "metadata": {},
   "outputs": [],
   "source": [
    "# your code\n"
   ]
  },
  {
   "cell_type": "markdown",
   "metadata": {},
   "source": [
    "7. (c.ii) Second, try to find the optimized number of hidden layers and nodes. (Start with default number and then at least go with one number above and one number below the default) \n"
   ]
  },
  {
   "cell_type": "code",
   "execution_count": 12,
   "metadata": {},
   "outputs": [],
   "source": [
    "# your code for lower number of hidden layers\n",
    "\n",
    "# your code for higher number of hidden layers\n",
    "\n",
    "# your code for testing number of neurons in each layer\n"
   ]
  },
  {
   "cell_type": "markdown",
   "metadata": {},
   "source": [
    "7. (c.iii) Third, try to train your model with one linear activation function and one non linear activation function, name the functions and explain if there is any difference in your networks and why? (you can use evaluation metrics to show which activation function works better for this data set)\n"
   ]
  },
  {
   "cell_type": "code",
   "execution_count": 13,
   "metadata": {},
   "outputs": [],
   "source": [
    "# your code for linear activation function\n",
    "\n",
    "# your code for non linear activation function\n",
    "\n",
    "# yor code for comparing two networks\n"
   ]
  },
  {
   "cell_type": "markdown",
   "metadata": {},
   "source": [
    "Parameters:"
   ]
  },
  {
   "cell_type": "markdown",
   "metadata": {},
   "source": [
    "Explanation:"
   ]
  },
  {
   "cell_type": "markdown",
   "metadata": {},
   "source": [
    "7. (c.iv) Which model do you recommend to be used as your classifier and why? (with respect to the number of hidden layer and activation function (linear or nonlinear))"
   ]
  },
  {
   "cell_type": "markdown",
   "metadata": {},
   "source": [
    "Explanation:"
   ]
  },
  {
   "cell_type": "markdown",
   "metadata": {},
   "source": [
    "## Analysing the quality of the prediction models"
   ]
  },
  {
   "cell_type": "markdown",
   "metadata": {},
   "source": [
    "### Question 8 (Evaluation metrics)"
   ]
  },
  {
   "cell_type": "markdown",
   "metadata": {},
   "source": [
    "8. (a) Calculate the following metrics for the model 7. (c, i) and the logistic regression with all the initial attributes in question 6 (c):"
   ]
  },
  {
   "cell_type": "markdown",
   "metadata": {},
   "source": [
    "- Confusion matrices on the training data"
   ]
  },
  {
   "cell_type": "code",
   "execution_count": 14,
   "metadata": {},
   "outputs": [],
   "source": [
    "# your code for the confusion matrices on the training data\n"
   ]
  },
  {
   "cell_type": "markdown",
   "metadata": {},
   "source": [
    "- Confusion matrices on the test data"
   ]
  },
  {
   "cell_type": "code",
   "execution_count": 15,
   "metadata": {},
   "outputs": [],
   "source": [
    "# your code for the confusion matrices on the test data\n"
   ]
  },
  {
   "cell_type": "markdown",
   "metadata": {},
   "source": [
    "- Precision, recall and F1-scores on the test data"
   ]
  },
  {
   "cell_type": "code",
   "execution_count": 16,
   "metadata": {},
   "outputs": [],
   "source": [
    "# your code for precision, recall and F1-scores on the test data\n"
   ]
  },
  {
   "cell_type": "markdown",
   "metadata": {},
   "source": [
    "- Accuracy scores on training and test data"
   ]
  },
  {
   "cell_type": "code",
   "execution_count": 17,
   "metadata": {},
   "outputs": [],
   "source": [
    "# your code for accuracy scores on training and test data\n"
   ]
  },
  {
   "cell_type": "markdown",
   "metadata": {},
   "source": [
    "In order to turn numbers into insights, please comment on your findings. Motivate the answers to the following questions using the metrics and the findings in the questions 1 through 7."
   ]
  },
  {
   "cell_type": "markdown",
   "metadata": {},
   "source": [
    "8. (b) What is, in your opinion, the best model? Motivate your answer with the correct performance metrics."
   ]
  },
  {
   "cell_type": "markdown",
   "metadata": {},
   "source": [
    "Explanation:"
   ]
  },
  {
   "cell_type": "markdown",
   "metadata": {},
   "source": [
    "8. (c) Does any model suffer from underfitting or overfitting? Motivate your answer with the correct performance metrics."
   ]
  },
  {
   "cell_type": "markdown",
   "metadata": {},
   "source": [
    "Explanation:"
   ]
  },
  {
   "cell_type": "markdown",
   "metadata": {},
   "source": [
    "8. (d) In the hypothesis that a separate validation set is not available, how would you proceed in evaluating a model? Refer to the evaluation techniques seen in the lectures."
   ]
  },
  {
   "cell_type": "markdown",
   "metadata": {},
   "source": [
    "Explanation:"
   ]
  }
 ],
 "metadata": {
  "kernelspec": {
   "display_name": "Python 3",
   "language": "python",
   "name": "python3"
  },
  "language_info": {
   "codemirror_mode": {
    "name": "ipython",
    "version": 3
   },
   "file_extension": ".py",
   "mimetype": "text/x-python",
   "name": "python",
   "nbconvert_exporter": "python",
   "pygments_lexer": "ipython3",
   "version": "3.6.7"
  }
 },
 "nbformat": 4,
 "nbformat_minor": 2
}
